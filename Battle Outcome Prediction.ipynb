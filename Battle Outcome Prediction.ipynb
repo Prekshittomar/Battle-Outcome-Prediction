{
 "cells": [
  {
   "cell_type": "code",
   "execution_count": 2,
   "metadata": {},
   "outputs": [],
   "source": [
    "import numpy as np\n",
    "import pandas as pd\n",
    "import seaborn as sns\n",
    "import matplotlib.pyplot as plt\n",
    "\n",
    "from sklearn.preprocessing import LabelEncoder\n",
    "import itertools\n",
    "from sklearn.model_selection import train_test_split\n",
    "from sklearn.ensemble import RandomForestClassifier\n",
    "from sklearn.metrics import accuracy_score"
   ]
  },
  {
   "cell_type": "code",
   "execution_count": 3,
   "metadata": {},
   "outputs": [],
   "source": [
    "data= pd.read_csv('fictional_character_battles_complex.csv')"
   ]
  },
  {
   "cell_type": "code",
   "execution_count": 4,
   "metadata": {},
   "outputs": [
    {
     "data": {
      "text/html": [
       "<div>\n",
       "<style scoped>\n",
       "    .dataframe tbody tr th:only-of-type {\n",
       "        vertical-align: middle;\n",
       "    }\n",
       "\n",
       "    .dataframe tbody tr th {\n",
       "        vertical-align: top;\n",
       "    }\n",
       "\n",
       "    .dataframe thead th {\n",
       "        text-align: right;\n",
       "    }\n",
       "</style>\n",
       "<table border=\"1\" class=\"dataframe\">\n",
       "  <thead>\n",
       "    <tr style=\"text-align: right;\">\n",
       "      <th></th>\n",
       "      <th>Character</th>\n",
       "      <th>Universe</th>\n",
       "      <th>Strength</th>\n",
       "      <th>Speed</th>\n",
       "      <th>Intelligence</th>\n",
       "      <th>SpecialAbilities</th>\n",
       "      <th>Weaknesses</th>\n",
       "      <th>BattleOutcome</th>\n",
       "    </tr>\n",
       "  </thead>\n",
       "  <tbody>\n",
       "    <tr>\n",
       "      <th>0</th>\n",
       "      <td>Wonder Woman</td>\n",
       "      <td>Marvel</td>\n",
       "      <td>7</td>\n",
       "      <td>8</td>\n",
       "      <td>3</td>\n",
       "      <td>Telekinesis</td>\n",
       "      <td>Kryptonite</td>\n",
       "      <td>0</td>\n",
       "    </tr>\n",
       "    <tr>\n",
       "      <th>1</th>\n",
       "      <td>Iron Man</td>\n",
       "      <td>Marvel</td>\n",
       "      <td>4</td>\n",
       "      <td>7</td>\n",
       "      <td>9</td>\n",
       "      <td>Telekinesis</td>\n",
       "      <td>Kryptonite</td>\n",
       "      <td>0</td>\n",
       "    </tr>\n",
       "    <tr>\n",
       "      <th>2</th>\n",
       "      <td>Iron Man</td>\n",
       "      <td>DC Comics</td>\n",
       "      <td>8</td>\n",
       "      <td>7</td>\n",
       "      <td>5</td>\n",
       "      <td>Telekinesis</td>\n",
       "      <td>Magic</td>\n",
       "      <td>0</td>\n",
       "    </tr>\n",
       "    <tr>\n",
       "      <th>3</th>\n",
       "      <td>Spider-Man</td>\n",
       "      <td>DC Comics</td>\n",
       "      <td>5</td>\n",
       "      <td>6</td>\n",
       "      <td>10</td>\n",
       "      <td>Telekinesis</td>\n",
       "      <td>Kryptonite</td>\n",
       "      <td>0</td>\n",
       "    </tr>\n",
       "    <tr>\n",
       "      <th>4</th>\n",
       "      <td>Flash</td>\n",
       "      <td>Marvel</td>\n",
       "      <td>7</td>\n",
       "      <td>6</td>\n",
       "      <td>2</td>\n",
       "      <td>Invisibility</td>\n",
       "      <td>Magic</td>\n",
       "      <td>0</td>\n",
       "    </tr>\n",
       "  </tbody>\n",
       "</table>\n",
       "</div>"
      ],
      "text/plain": [
       "      Character   Universe  Strength  Speed  Intelligence SpecialAbilities  \\\n",
       "0  Wonder Woman     Marvel         7      8             3      Telekinesis   \n",
       "1      Iron Man     Marvel         4      7             9      Telekinesis   \n",
       "2      Iron Man  DC Comics         8      7             5      Telekinesis   \n",
       "3    Spider-Man  DC Comics         5      6            10      Telekinesis   \n",
       "4         Flash     Marvel         7      6             2     Invisibility   \n",
       "\n",
       "   Weaknesses  BattleOutcome  \n",
       "0  Kryptonite              0  \n",
       "1  Kryptonite              0  \n",
       "2       Magic              0  \n",
       "3  Kryptonite              0  \n",
       "4       Magic              0  "
      ]
     },
     "execution_count": 4,
     "metadata": {},
     "output_type": "execute_result"
    }
   ],
   "source": [
    "data.head()"
   ]
  },
  {
   "cell_type": "code",
   "execution_count": 5,
   "metadata": {},
   "outputs": [
    {
     "data": {
      "text/html": [
       "<div>\n",
       "<style scoped>\n",
       "    .dataframe tbody tr th:only-of-type {\n",
       "        vertical-align: middle;\n",
       "    }\n",
       "\n",
       "    .dataframe tbody tr th {\n",
       "        vertical-align: top;\n",
       "    }\n",
       "\n",
       "    .dataframe thead th {\n",
       "        text-align: right;\n",
       "    }\n",
       "</style>\n",
       "<table border=\"1\" class=\"dataframe\">\n",
       "  <thead>\n",
       "    <tr style=\"text-align: right;\">\n",
       "      <th></th>\n",
       "      <th>Character</th>\n",
       "      <th>Universe</th>\n",
       "      <th>Strength</th>\n",
       "      <th>Speed</th>\n",
       "      <th>Intelligence</th>\n",
       "      <th>SpecialAbilities</th>\n",
       "      <th>Weaknesses</th>\n",
       "      <th>BattleOutcome</th>\n",
       "    </tr>\n",
       "  </thead>\n",
       "  <tbody>\n",
       "    <tr>\n",
       "      <th>2346</th>\n",
       "      <td>Superman</td>\n",
       "      <td>DC Comics</td>\n",
       "      <td>9</td>\n",
       "      <td>8</td>\n",
       "      <td>5</td>\n",
       "      <td>Super Strength</td>\n",
       "      <td>Kryptonite</td>\n",
       "      <td>0</td>\n",
       "    </tr>\n",
       "    <tr>\n",
       "      <th>2347</th>\n",
       "      <td>Superman</td>\n",
       "      <td>DC Comics</td>\n",
       "      <td>2</td>\n",
       "      <td>5</td>\n",
       "      <td>8</td>\n",
       "      <td>Super Strength</td>\n",
       "      <td>Magic</td>\n",
       "      <td>1</td>\n",
       "    </tr>\n",
       "    <tr>\n",
       "      <th>2348</th>\n",
       "      <td>Flash</td>\n",
       "      <td>DC Comics</td>\n",
       "      <td>5</td>\n",
       "      <td>3</td>\n",
       "      <td>3</td>\n",
       "      <td>Telekinesis</td>\n",
       "      <td>Wooden Stake</td>\n",
       "      <td>0</td>\n",
       "    </tr>\n",
       "    <tr>\n",
       "      <th>2349</th>\n",
       "      <td>Batman</td>\n",
       "      <td>DC Comics</td>\n",
       "      <td>5</td>\n",
       "      <td>10</td>\n",
       "      <td>6</td>\n",
       "      <td>Flight</td>\n",
       "      <td>Wooden Stake</td>\n",
       "      <td>1</td>\n",
       "    </tr>\n",
       "    <tr>\n",
       "      <th>2350</th>\n",
       "      <td>Spider-Man</td>\n",
       "      <td>Marvel</td>\n",
       "      <td>8</td>\n",
       "      <td>1</td>\n",
       "      <td>5</td>\n",
       "      <td>Super Strength</td>\n",
       "      <td>Magic</td>\n",
       "      <td>1</td>\n",
       "    </tr>\n",
       "  </tbody>\n",
       "</table>\n",
       "</div>"
      ],
      "text/plain": [
       "       Character   Universe  Strength  Speed  Intelligence SpecialAbilities  \\\n",
       "2346    Superman  DC Comics         9      8             5   Super Strength   \n",
       "2347    Superman  DC Comics         2      5             8   Super Strength   \n",
       "2348       Flash  DC Comics         5      3             3      Telekinesis   \n",
       "2349      Batman  DC Comics         5     10             6           Flight   \n",
       "2350  Spider-Man     Marvel         8      1             5   Super Strength   \n",
       "\n",
       "        Weaknesses  BattleOutcome  \n",
       "2346    Kryptonite              0  \n",
       "2347         Magic              1  \n",
       "2348  Wooden Stake              0  \n",
       "2349  Wooden Stake              1  \n",
       "2350         Magic              1  "
      ]
     },
     "execution_count": 5,
     "metadata": {},
     "output_type": "execute_result"
    }
   ],
   "source": [
    "data.tail()"
   ]
  },
  {
   "cell_type": "code",
   "execution_count": 6,
   "metadata": {},
   "outputs": [
    {
     "data": {
      "text/plain": [
       "(2351, 8)"
      ]
     },
     "execution_count": 6,
     "metadata": {},
     "output_type": "execute_result"
    }
   ],
   "source": [
    "data.shape"
   ]
  },
  {
   "cell_type": "code",
   "execution_count": 7,
   "metadata": {},
   "outputs": [
    {
     "name": "stdout",
     "output_type": "stream",
     "text": [
      "<class 'pandas.core.frame.DataFrame'>\n",
      "RangeIndex: 2351 entries, 0 to 2350\n",
      "Data columns (total 8 columns):\n",
      " #   Column            Non-Null Count  Dtype \n",
      "---  ------            --------------  ----- \n",
      " 0   Character         2351 non-null   object\n",
      " 1   Universe          2351 non-null   object\n",
      " 2   Strength          2351 non-null   int64 \n",
      " 3   Speed             2351 non-null   int64 \n",
      " 4   Intelligence      2351 non-null   int64 \n",
      " 5   SpecialAbilities  2351 non-null   object\n",
      " 6   Weaknesses        2351 non-null   object\n",
      " 7   BattleOutcome     2351 non-null   int64 \n",
      "dtypes: int64(4), object(4)\n",
      "memory usage: 147.1+ KB\n"
     ]
    }
   ],
   "source": [
    "data.info()"
   ]
  },
  {
   "cell_type": "code",
   "execution_count": 8,
   "metadata": {},
   "outputs": [
    {
     "data": {
      "text/plain": [
       "Character           0\n",
       "Universe            0\n",
       "Strength            0\n",
       "Speed               0\n",
       "Intelligence        0\n",
       "SpecialAbilities    0\n",
       "Weaknesses          0\n",
       "BattleOutcome       0\n",
       "dtype: int64"
      ]
     },
     "execution_count": 8,
     "metadata": {},
     "output_type": "execute_result"
    }
   ],
   "source": [
    "data.isnull().sum(axis=0)"
   ]
  },
  {
   "cell_type": "code",
   "execution_count": 9,
   "metadata": {},
   "outputs": [
    {
     "data": {
      "image/png": "[encoded data removed]",
      "text/plain": [
       "<Figure size 1000x600 with 1 Axes>"
      ]
     },
     "metadata": {},
     "output_type": "display_data"
    }
   ],
   "source": [
    "count=data['Universe'].value_counts()\n",
    "plt.figure(figsize=(10, 6))\n",
    "count.plot(kind='bar',color='maroon', width=0.3)\n",
    "plt.title('Superhero distribution per Universe')\n",
    "plt.xlabel('Universe')\n",
    "plt.ylabel('Number of Superhero')\n",
    "plt.show()"
   ]
  },
  {
   "cell_type": "code",
   "execution_count": 10,
   "metadata": {},
   "outputs": [
    {
     "data": {
      "image/png": "[encoded data removed]",
      "text/plain": [
       "<Figure size 1000x600 with 1 Axes>"
      ]
     },
     "metadata": {},
     "output_type": "display_data"
    }
   ],
   "source": [
    "count_sa=data['SpecialAbilities'].value_counts()\n",
    "plt.figure(figsize=(10, 6))\n",
    "count_sa.plot(kind='bar',color='Black', width=0.3)\n",
    "plt.title('Superhero distribution per Universe')\n",
    "plt.xlabel('Universe')\n",
    "plt.ylabel('Number of Superhero')\n",
    "plt.show()"
   ]
  },
  {
   "cell_type": "code",
   "execution_count": 11,
   "metadata": {},
   "outputs": [
    {
     "data": {
      "image/png": "[encoded data removed]",
      "text/plain": [
       "<Figure size 1000x600 with 1 Axes>"
      ]
     },
     "metadata": {},
     "output_type": "display_data"
    }
   ],
   "source": [
    "count_wk=data['Weaknesses'].value_counts()\n",
    "plt.figure(figsize=(10, 6))\n",
    "count_wk.plot(kind='bar',color='maroon', width=0.3)\n",
    "plt.title('Superhero distribution per Universe')\n",
    "plt.xlabel('Universe')\n",
    "plt.ylabel('Number of Superhero')\n",
    "plt.show()"
   ]
  },
  {
   "cell_type": "code",
   "execution_count": 12,
   "metadata": {},
   "outputs": [],
   "source": [
    "# Encode categorical variables\n",
    "le_character = LabelEncoder()\n",
    "le_universe = LabelEncoder()\n",
    "le_special_abilities = LabelEncoder()\n",
    "le_weaknesses = LabelEncoder()\n",
    "\n",
    "data['Character'] = le_character.fit_transform(data['Character'])\n",
    "data['Universe'] = le_universe.fit_transform(data['Universe'])\n",
    "data['SpecialAbilities'] = le_special_abilities.fit_transform(data['SpecialAbilities'])\n",
    "data['Weaknesses'] = le_weaknesses.fit_transform(data['Weaknesses'])"
   ]
  },
  {
   "cell_type": "code",
   "execution_count": 13,
   "metadata": {},
   "outputs": [],
   "source": [
    "# Generating all possible battles between Marvel and DC characters\n",
    "marvel_characters = data[data['Universe'] == le_universe.transform(['Marvel'])[0]]\n",
    "dc_characters = data[data['Universe'] == le_universe.transform(['DC Comics'])[0]]\n",
    "\n",
    "battles = []\n",
    "for marvel, dc in itertools.product(marvel_characters.iterrows(), dc_characters.iterrows()):\n",
    "    index_marvel, row_marvel = marvel\n",
    "    index_dc, row_dc = dc\n",
    "    battle = {\n",
    "        'Character1': row_marvel['Character'],\n",
    "        'Character2': row_dc['Character'],\n",
    "        'Strength1': row_marvel['Strength'],\n",
    "        'Strength2': row_dc['Strength'],\n",
    "        'Speed1': row_marvel['Speed'],\n",
    "        'Speed2': row_dc['Speed'],\n",
    "        'Intelligence1': row_marvel['Intelligence'],\n",
    "        'Intelligence2': row_dc['Intelligence'],\n",
    "        'SpecialAbilities1': row_marvel['SpecialAbilities'],\n",
    "        'SpecialAbilities2': row_dc['SpecialAbilities'],\n",
    "        'Weaknesses1': row_marvel['Weaknesses'],\n",
    "        'Weaknesses2': row_dc['Weaknesses'],\n",
    "        'BattleOutcome': row_marvel['BattleOutcome']  # Assume BattleOutcome from original data for now\n",
    "    }\n",
    "    battles.append(battle)\n",
    "\n",
    "battles_df = pd.DataFrame(battles)"
   ]
  },
  {
   "cell_type": "code",
   "execution_count": 14,
   "metadata": {},
   "outputs": [
    {
     "name": "stdout",
     "output_type": "stream",
     "text": [
      "Accuracy: 0.9910097394489303\n"
     ]
    }
   ],
   "source": [
    "# Split the data into training and test sets\n",
    "X = battles_df.drop('BattleOutcome', axis=1)\n",
    "y = battles_df['BattleOutcome']\n",
    "\n",
    "X_train, X_test, y_train, y_test = train_test_split(X, y, test_size=0.2, random_state=42)\n",
    "\n",
    "# Train a Random Forest Classifier\n",
    "model = RandomForestClassifier(n_estimators=100, random_state=42)\n",
    "model.fit(X_train, y_train)\n",
    "\n",
    "# Evaluate the model\n",
    "y_pred = model.predict(X_test)\n",
    "accuracy = accuracy_score(y_test, y_pred)\n",
    "print(f'Accuracy: {accuracy}')"
   ]
  },
  {
   "cell_type": "code",
   "execution_count": 15,
   "metadata": {},
   "outputs": [],
   "source": [
    "def predict_winner(character1, character2):\n",
    "    char1_encoded = le_character.transform([character1])[0]\n",
    "    char2_encoded = le_character.transform([character2])[0]\n",
    "    \n",
    "    char1_data = data[data['Character'] == char1_encoded].iloc[0]\n",
    "    char2_data = data[data['Character'] == char2_encoded].iloc[0]\n",
    "    \n",
    "    battle_features = {\n",
    "        'Character1': char1_encoded,\n",
    "        'Character2': char2_encoded,\n",
    "        'Strength1': char1_data['Strength'],\n",
    "        'Strength2': char2_data['Strength'],\n",
    "        'Speed1': char1_data['Speed'],\n",
    "        'Speed2': char2_data['Speed'],\n",
    "        'Intelligence1': char1_data['Intelligence'],\n",
    "        'Intelligence2': char2_data['Intelligence'],\n",
    "        'SpecialAbilities1': char1_data['SpecialAbilities'],\n",
    "        'SpecialAbilities2': char2_data['SpecialAbilities'],\n",
    "        'Weaknesses1': char1_data['Weaknesses'],\n",
    "        'Weaknesses2': char2_data['Weaknesses']\n",
    "    }\n",
    "    \n",
    "    battle_df = pd.DataFrame([battle_features])\n",
    "    prediction = model.predict(battle_df)[0]\n",
    "    \n",
    "    if prediction == 1:\n",
    "        winner = character1\n",
    "    else:\n",
    "        winner = character2\n",
    "        \n",
    "    return winner"
   ]
  },
  {
   "cell_type": "code",
   "execution_count": 16,
   "metadata": {},
   "outputs": [
    {
     "name": "stdout",
     "output_type": "stream",
     "text": [
      "The predicted winner between Iron Man and Flash is Flash.\n"
     ]
    }
   ],
   "source": [
    "# Sample prediction\n",
    "character1 = 'Iron Man'\n",
    "character2 = 'Flash'\n",
    "winner = predict_winner(character1, character2)\n",
    "print(f'The predicted winner between {character1} and {character2} is {winner}.')"
   ]
  },
  {
   "cell_type": "code",
   "execution_count": 17,
   "metadata": {},
   "outputs": [
    {
     "name": "stdout",
     "output_type": "stream",
     "text": [
      "The predicted winner between Thor and Batman is Thor.\n"
     ]
    }
   ],
   "source": [
    "# Sample prediction\n",
    "character3 = 'Thor'\n",
    "character4 = 'Batman'\n",
    "winner1 = predict_winner(character3, character4)\n",
    "print(f'The predicted winner between {character3} and {character4} is {winner1}.')"
   ]
  },
  {
   "cell_type": "code",
   "execution_count": null,
   "metadata": {},
   "outputs": [],
   "source": []
  }
 ],
 "metadata": {
  "kernelspec": {
   "display_name": ".venv",
   "language": "python",
   "name": "python3"
  },
  "language_info": {
   "codemirror_mode": {
    "name": "ipython",
    "version": 3
   },
   "file_extension": ".py",
   "mimetype": "text/x-python",
   "name": "python",
   "nbconvert_exporter": "python",
   "pygments_lexer": "ipython3",
   "version": "3.11.8"
  }
 },
 "nbformat": 4,
 "nbformat_minor": 2
}
